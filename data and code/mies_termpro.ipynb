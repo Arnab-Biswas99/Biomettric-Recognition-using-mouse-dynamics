{
 "cells": [
  {
   "cell_type": "code",
   "execution_count": 4,
   "id": "f71b8956",
   "metadata": {},
   "outputs": [],
   "source": [
    "import numpy as np\n",
    "import pandas as pd\n",
    "import extractor\n",
    "from sklearn.model_selection import train_test_split\n",
    "from sklearn.metrics import accuracy_score\n",
    "import warnings\n",
    "warnings.filterwarnings('ignore')\n",
    "warnings.simplefilter(\"ignore\", DeprecationWarning)"
   ]
  },
  {
   "cell_type": "code",
   "execution_count": 9,
   "id": "bf66f589",
   "metadata": {},
   "outputs": [
    {
     "name": "stdout",
     "output_type": "stream",
     "text": [
      "Data of 21EC6501\n",
      "Data2 of 21EC65R02\n",
      "Data of 21EC65R04\n",
      "Data of 21EC65R08\n",
      "Data of 21EC65R20\n"
     ]
    }
   ],
   "source": [
    "##Data extraction\n",
    "a_f=extractor.feature_extract(1,\"data/21EC65R01/\")\n",
    "a_f=pd.DataFrame(a_f)\n",
    "a_f['class']=0\n",
    "print(\"Data of 21EC6501\")\n",
    "#print(a_f)\n",
    "\n",
    "b_f=extractor.feature_extract(5,\"data/21EC65R02/\")\n",
    "b_f=pd.DataFrame(b_f)\n",
    "b_f['class']=0\n",
    "print(\"Data of 21EC65R02\")\n",
    "#print(b_f)\n",
    "\n",
    "c_f=extractor.feature_extract(5,\"data/21EC65R04/\")\n",
    "c_f=pd.DataFrame(c_f)\n",
    "c_f['class']=0\n",
    "print(\"Data of 21EC65R04\")\n",
    "#print(c_f)\n",
    "\n",
    "d_f=extractor.feature_extract(5,\"data/21EC65R08/\")\n",
    "d_f=pd.DataFrame(d_f)\n",
    "d_f['class']=0\n",
    "print(\"Data of 21EC65R08\")\n",
    "#print(d_f)\n",
    "\n",
    "e_f=extractor.feature_extract(5,\"data/21EC65R20/\")\n",
    "e_f=pd.DataFrame(e_f)\n",
    "e_f['class']=0\n",
    "print(\"Data of 21EC65R20\")\n",
    "#print(e_f)\n"
   ]
  },
  {
   "cell_type": "code",
   "execution_count": 10,
   "id": "cdb54b61",
   "metadata": {},
   "outputs": [],
   "source": [
    "#defining training and testing data\n",
    "a_f_train = a_f[:int(a_f.shape[0]*0.7)]\n",
    "a_f_test = a_f[int(a_f.shape[0]*0.7):]\n",
    "\n",
    "b_f_train = b_f[:int(b_f.shape[0]*0.7)]\n",
    "b_f_test = b_f[int(b_f.shape[0]*0.7):]\n",
    "\n",
    "c_f_train = c_f[:int(c_f.shape[0]*0.7)]\n",
    "c_f_test = c_f[int(c_f.shape[0]*0.7):]\n",
    "\n",
    "d_f_train = d_f[:int(d_f.shape[0]*0.7)]\n",
    "d_f_test = d_f[int(d_f.shape[0]*0.7):]\n",
    "\n",
    "e_f_train = e_f[:int(e_f.shape[0]*0.7)]\n",
    "e_f_test = e_f[int(e_f.shape[0]*0.7):]"
   ]
  },
  {
   "cell_type": "code",
   "execution_count": 11,
   "id": "86858d82",
   "metadata": {},
   "outputs": [],
   "source": [
    "#combine all data\n",
    "x_train=a_f_train.append([b_f_train,c_f_train,d_f_train,e_f_train])\n",
    "x_test=a_f_test.append([b_f_test,c_f_test,d_f_test,e_f_test])\n",
    "#print(x_test)"
   ]
  },
  {
   "cell_type": "code",
   "execution_count": 12,
   "id": "94396e1c",
   "metadata": {},
   "outputs": [
    {
     "name": "stdout",
     "output_type": "stream",
     "text": [
      "\n",
      "Pre-processing Done.\n"
     ]
    }
   ],
   "source": [
    "y_train=x_train[['class']]\n",
    "y_test=x_test[['class']]\n",
    "X_data=x_train.append(x_test)\n",
    "X_data = X_data.reset_index(drop=True)\n",
    "y_data=y_train.append(y_test)\n",
    "y_data = y_data.reset_index(drop=True)\n",
    "print('\\nPre-processing Done.')"
   ]
  },
  {
   "cell_type": "code",
   "execution_count": 13,
   "id": "f321aa66",
   "metadata": {},
   "outputs": [],
   "source": [
    "feats=[c for c in x_train.columns if c!='class']"
   ]
  },
  {
   "cell_type": "code",
   "execution_count": 14,
   "id": "5a3b862b",
   "metadata": {},
   "outputs": [
    {
     "data": {
      "text/plain": [
       "KNeighborsClassifier()"
      ]
     },
     "execution_count": 14,
     "metadata": {},
     "output_type": "execute_result"
    }
   ],
   "source": [
    "from sklearn.neighbors import KNeighborsClassifier\n",
    "feats=[c for c in x_train if c!='class']\n",
    "model=KNeighborsClassifier(n_neighbors=5)\n",
    "model.fit(x_train[feats].values,y_train['class'])"
   ]
  },
  {
   "cell_type": "code",
   "execution_count": 15,
   "id": "5bb20ec6",
   "metadata": {},
   "outputs": [],
   "source": [
    "y_pred=model.predict(x_test[feats].values)"
   ]
  },
  {
   "cell_type": "code",
   "execution_count": 16,
   "id": "15afd5e9",
   "metadata": {
    "scrolled": true
   },
   "outputs": [
    {
     "name": "stdout",
     "output_type": "stream",
     "text": [
      "[0 0 0 0 0 0 0 0 0 0 0 0 0 0 0 0 0 0 0 0 0 0 0 0 0 0 0 0 0 0 0 0 0 0 0 0 0\n",
      " 0 0 0 0 0 0 0 0 0 0 0 0 0 0 0 0 0 0 0 0 0 0 0 0 0 0 0 0 0 0 0 0 0 0 0 0 0\n",
      " 0 0 0 0 0 0 0 0 0 0 0 0 0 0 0 0 0 0 0 0 0 0 0 0 0 0 0 0 0 0 0 0 0 0 0 0 0\n",
      " 0 0 0 0 0 0 0 0 0 0 0 0 0 0 0 0 0 0 0 0 0 0 0 0 0 0 0 0 0 0 0 0 0 0 0 0 0\n",
      " 0 0 0 0 0 0 0 0 0 0 0 0 0 0 0 0 0 0 0 0 0 0 0 0 0 0 0 0 0 0 0 0 0 0 0 0 0\n",
      " 0 0 0 0 0 0 0 0 0 0 0 0 0 0 0 0 0 0 0 0 0 0 0 0 0 0 0 0 0 0 0 0 0 0 0 0 0\n",
      " 0 0 0 0 0 0 0 0 0 0 0 0 0 0 0 0 0 0 0 0 0 0 0 0 0 0 0 0 0 0 0 0 0 0 0 0 0\n",
      " 0 0 0 0 0 0 0 0 0 0 0 0 0 0 0 0 0 0 0 0 0 0 0 0 0 0 0 0 0 0 0 0 0 0 0 0 0\n",
      " 0 0 0 0 0 0 0 0 0 0 0 0 0 0 0 0 0 0 0 0 0 0 0 0 0 0 0 0 0 0 0 0 0 0 0 0 0\n",
      " 0 0 0 0 0 0 0 0 0 0 0 0 0 0 0 0 0 0 0 0 0 0 0 0 0 0 0 0 0 0 0 0 0 0 0 0 0\n",
      " 0 0 0 0 0 0 0 0 0 0 0 0 0 0 0 0 0 0 0 0 0 0 0 0 0 0 0 0 0 0 0 0 0 0 0 0 0\n",
      " 0 0 0 0 0 0 0 0 0 0 0 0 0 0 0 0 0 0 0 0 0 0 0 0 0 0 0 0 0 0 0 0 0 0 0 0 0\n",
      " 0 0 0 0 0 0 0 0 0 0 0 0 0 0 0 0 0 0 0 0 0 0 0 0 0 0 0 0 0 0 0 0 0 0 0 0 0\n",
      " 0 0 0 0 0 0 0 0 0 0 0 0 0 0 0 0 0 0 0 0 0 0 0 0 0 0 0 0 0 0 0 0 0 0 0 0 0\n",
      " 0 0 0 0 0 0 0 0 0 0 0 0 0 0 0 0 0 0 0 0 0 0 0 0 0 0 0 0 0 0 0 0 0 0 0 0 0\n",
      " 0 0 0 0 0 0 0 0 0 0 0 0 0 0 0 0 0 0 0 0 0 0 0 0 0 0 0 0 0 0 0 0 0 0 0 0 0\n",
      " 0 0 0 0 0 0 0 0 0 0 0 0 0 0 0 0 0 0 0 0 0 0 0 0 0 0 0 0 0 0 0 0 0 0 0 0 0\n",
      " 0 0 0 0 0 0 0 0 0 0 0 0 0 0 0 0 0 0 0 0 0 0 0]\n"
     ]
    }
   ],
   "source": [
    "print(y_pred)"
   ]
  },
  {
   "cell_type": "code",
   "execution_count": 17,
   "id": "741001a0",
   "metadata": {},
   "outputs": [
    {
     "name": "stdout",
     "output_type": "stream",
     "text": [
      "\n",
      "Number of mislabeled points out of a total 652 points : 0, Accuracy: 100.00000%\n"
     ]
    }
   ],
   "source": [
    "print(\"\\nNumber of mislabeled points out of a total {} points : {}, Accuracy: {:05.5f}%\"\n",
    "      .format(\n",
    "          x_test.shape[0],\n",
    "          (x_test[\"class\"] != y_pred).sum(),\n",
    "          100*(1-(x_test[\"class\"] != y_pred).sum()/x_test.shape[0])\n",
    "))"
   ]
  },
  {
   "cell_type": "code",
   "execution_count": 18,
   "id": "eb8e03e1",
   "metadata": {},
   "outputs": [
    {
     "data": {
      "text/plain": [
       "1.0"
      ]
     },
     "execution_count": 18,
     "metadata": {},
     "output_type": "execute_result"
    }
   ],
   "source": [
    "from sklearn.metrics import accuracy_score\n",
    "accuracy_score(y_test,y_pred)"
   ]
  },
  {
   "cell_type": "code",
   "execution_count": null,
   "id": "448b4d12",
   "metadata": {},
   "outputs": [],
   "source": []
  },
  {
   "cell_type": "code",
   "execution_count": null,
   "id": "f7ae7370",
   "metadata": {},
   "outputs": [],
   "source": []
  }
 ],
 "metadata": {
  "kernelspec": {
   "display_name": "Python 3",
   "language": "python",
   "name": "python3"
  },
  "language_info": {
   "codemirror_mode": {
    "name": "ipython",
    "version": 3
   },
   "file_extension": ".py",
   "mimetype": "text/x-python",
   "name": "python",
   "nbconvert_exporter": "python",
   "pygments_lexer": "ipython3",
   "version": "3.8.8"
  }
 },
 "nbformat": 4,
 "nbformat_minor": 5
}
